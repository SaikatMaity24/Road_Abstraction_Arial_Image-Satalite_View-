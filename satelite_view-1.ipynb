{
  "cells": [
    {
      "cell_type": "markdown",
      "id": "I9flDun_MZTy",
      "metadata": {
        "id": "I9flDun_MZTy"
      },
      "source": [
        "## **Data Preprocessing of Satelite Imagery**"
      ]
    },
    {
      "cell_type": "code",
      "execution_count": null,
      "id": "OFo9g5gKdOrP",
      "metadata": {
        "colab": {
          "base_uri": "https://localhost:8080/"
        },
        "id": "OFo9g5gKdOrP",
        "outputId": "7c626e39-1c2e-44c6-a011-d0fa5e3f222b"
      },
      "outputs": [],
      "source": [
        "!pip install patchify"
      ]
    },
    {
      "cell_type": "code",
      "execution_count": 2,
      "id": "AOZz_fnjrLFf",
      "metadata": {
        "id": "AOZz_fnjrLFf"
      },
      "outputs": [],
      "source": [
        "import os\n",
        "import cv2\n",
        "from PIL import Image\n",
        "import numpy as np\n",
        "from patchify import patchify\n",
        "from sklearn.preprocessing import MinMaxScaler, StandardScaler\n",
        "from matplotlib import pyplot as plt\n",
        "import random"
      ]
    },
    {
      "cell_type": "code",
      "execution_count": null,
      "id": "uTuE5lx_Yyfk",
      "metadata": {
        "colab": {
          "base_uri": "https://localhost:8080/"
        },
        "id": "uTuE5lx_Yyfk",
        "outputId": "915c7200-ae32-4a8f-f425-1493fde25fd5"
      },
      "outputs": [],
      "source": [
        "!ls -lah '/content/drive/MyDrive/Colab_Notebooks/Mini project/Semantic segmentation dataset/SatDataset'"
      ]
    },
    {
      "cell_type": "code",
      "execution_count": 4,
      "id": "BRHphQO7Z_6M",
      "metadata": {
        "id": "BRHphQO7Z_6M"
      },
      "outputs": [],
      "source": [
        "dataset_root_folder = '/content/drive/MyDrive/Colab_Notebooks/Mini project/Semantic segmentation dataset'"
      ]
    },
    {
      "cell_type": "code",
      "execution_count": 5,
      "id": "-eTYxr3Nq1xK",
      "metadata": {
        "id": "-eTYxr3Nq1xK"
      },
      "outputs": [],
      "source": [
        "dataset_name = 'SatDataset'"
      ]
    },
    {
      "cell_type": "code",
      "execution_count": null,
      "id": "p-RSImChrFEA",
      "metadata": {
        "colab": {
          "base_uri": "https://localhost:8080/"
        },
        "id": "p-RSImChrFEA",
        "outputId": "be966bfe-797c-47db-e4f6-f5542a540f22"
      },
      "outputs": [],
      "source": [
        "for path, subdirs, files in os.walk(os.path.join(dataset_root_folder, dataset_name)):\n",
        "  dir_name = path.split(os.path.sep)[-1]\n",
        "  # print(dir_name)\n",
        "  if dir_name == 'images': # or masks\n",
        "    images = os.listdir(path)\n",
        "    # print(images)\n",
        "    print(path)\n",
        "    for i, image_name in enumerate(images):\n",
        "      if (image_name.endswith(\".jpg\")):# or (\".jpg\")\n",
        "        # print(image_name)\n",
        "        a = True\n"
      ]
    },
    {
      "cell_type": "code",
      "execution_count": 7,
      "id": "NcidvHO01J8T",
      "metadata": {
        "id": "NcidvHO01J8T"
      },
      "outputs": [],
      "source": [
        "image_patch_size = 256"
      ]
    },
    {
      "cell_type": "code",
      "execution_count": 8,
      "id": "98UF2jdBr5LO",
      "metadata": {
        "id": "98UF2jdBr5LO"
      },
      "outputs": [],
      "source": [
        "image = cv2.imread(f'{dataset_root_folder}/{dataset_name}/Tile 1/images/image_part_001.jpg',1)"
      ]
    },
    {
      "cell_type": "code",
      "execution_count": null,
      "id": "UD6VZ8dk1lWi",
      "metadata": {
        "colab": {
          "base_uri": "https://localhost:8080/"
        },
        "id": "UD6VZ8dk1lWi",
        "outputId": "3c78b984-d460-4aa5-957c-c0e353af1417"
      },
      "outputs": [],
      "source": [
        "image.shape"
      ]
    },
    {
      "cell_type": "code",
      "execution_count": 10,
      "id": "XyspvrX3xFW4",
      "metadata": {
        "id": "XyspvrX3xFW4"
      },
      "outputs": [],
      "source": [
        "image_patches = patchify(image, (image_patch_size, image_patch_size, 3), step=image_patch_size)"
      ]
    },
    {
      "cell_type": "code",
      "execution_count": null,
      "id": "TDVQs2z8187B",
      "metadata": {
        "colab": {
          "base_uri": "https://localhost:8080/"
        },
        "id": "TDVQs2z8187B",
        "outputId": "6594ac89-411c-4291-aa8f-517dc7b94abf"
      },
      "outputs": [],
      "source": [
        "len(image_patches)"
      ]
    },
    {
      "cell_type": "code",
      "execution_count": null,
      "id": "XVN7L0QGGdUr",
      "metadata": {
        "colab": {
          "base_uri": "https://localhost:8080/"
        },
        "id": "XVN7L0QGGdUr",
        "outputId": "bfbe56fa-4f73-41ba-d48f-e85c428ec03c"
      },
      "outputs": [],
      "source": [
        "print(image_patches.shape)"
      ]
    },
    {
      "cell_type": "code",
      "execution_count": 13,
      "id": "Pc9AMnmc2dTY",
      "metadata": {
        "id": "Pc9AMnmc2dTY"
      },
      "outputs": [],
      "source": [
        "minmaxscaler = MinMaxScaler()"
      ]
    },
    {
      "cell_type": "code",
      "execution_count": 14,
      "id": "KVj9DabT2t5b",
      "metadata": {
        "id": "KVj9DabT2t5b"
      },
      "outputs": [],
      "source": [
        "image_x = image_patches[0,0,:,:]\n",
        "image_y = minmaxscaler.fit_transform(image_x.reshape(-1, image_x.shape[-1])).reshape(image_x.shape)#MinMaxScaler"
      ]
    },
    {
      "cell_type": "code",
      "execution_count": null,
      "id": "hWlS9iQVIwFf",
      "metadata": {
        "colab": {
          "base_uri": "https://localhost:8080/"
        },
        "id": "hWlS9iQVIwFf",
        "outputId": "29661c64-0b84-45a9-c947-2937f919c3d8"
      },
      "outputs": [],
      "source": [
        "image_y[0].shape"
      ]
    },
    {
      "cell_type": "code",
      "execution_count": null,
      "id": "PshG1PAtHn8J",
      "metadata": {
        "colab": {
          "base_uri": "https://localhost:8080/"
        },
        "id": "PshG1PAtHn8J",
        "outputId": "1830058b-8d58-407f-a347-fbf47afa119f"
      },
      "outputs": [],
      "source": [
        "print(type(image))"
      ]
    },
    {
      "cell_type": "code",
      "execution_count": null,
      "id": "7Ui3QeaD54gv",
      "metadata": {
        "colab": {
          "base_uri": "https://localhost:8080/",
          "height": 187
        },
        "id": "7Ui3QeaD54gv",
        "outputId": "0445d154-8aa0-406b-f624-08c879fa5425"
      },
      "outputs": [],
      "source": [
        "type(Image.fromarray(image))"
      ]
    },
    {
      "cell_type": "code",
      "execution_count": null,
      "id": "ScmcH_AOy2A8",
      "metadata": {
        "colab": {
          "base_uri": "https://localhost:8080/"
        },
        "id": "ScmcH_AOy2A8",
        "outputId": "27e9f4c1-526e-4264-82d8-4a30c74611e1"
      },
      "outputs": [],
      "source": [
        "image.shape"
      ]
    },
    {
      "cell_type": "code",
      "execution_count": null,
      "id": "L9egmczvCU44",
      "metadata": {
        "colab": {
          "base_uri": "https://localhost:8080/"
        },
        "id": "L9egmczvCU44",
        "outputId": "4b7e35d3-16c4-40c5-95ff-5ecafaae6941"
      },
      "outputs": [],
      "source": [
        "(image.shape[0]//image_patch_size)*image_patch_size"
      ]
    },
    {
      "cell_type": "code",
      "execution_count": 20,
      "id": "f6PqoLFN1GlE",
      "metadata": {
        "id": "f6PqoLFN1GlE"
      },
      "outputs": [],
      "source": [
        "\n",
        "image_dataset = []\n",
        "mask_dataset = []\n",
        "image_extension = \"\"\n",
        "\n",
        "for image_type in ['images' , 'masks']:\n",
        "  if image_type == 'images':\n",
        "    image_extension = 'jpg'\n",
        "  elif image_type == 'masks':\n",
        "     image_extension = 'png'\n",
        "  for tile_id in range(1,8):\n",
        "    for image_id in range(1,20):\n",
        "      image = cv2.imread(f'{dataset_root_folder}/{dataset_name}/Tile {tile_id}/{image_type}/image_part_00{image_id}.{image_extension}',1)\n",
        "      if image is not None:\n",
        "        if image_type == 'masks':\n",
        "          image = cv2.cvtColor(image, cv2.COLOR_BGR2RGB)\n",
        "        #print(image.shape)\n",
        "        size_x = (image.shape[1]//image_patch_size)*image_patch_size\n",
        "        size_y = (image.shape[0]//image_patch_size)*image_patch_size\n",
        "        #print(\"{} --- {} - {}\".format(image.shape, size_x, size_y))\n",
        "        image = Image.fromarray(image)\n",
        "        image = image.crop((0,0, size_x, size_y))\n",
        "        #print(\"({},  {})\".format(image.size[0],image.size[1]))\n",
        "        image = np.array(image)\n",
        "        patched_images = patchify(image, (image_patch_size, image_patch_size, 3), step=image_patch_size)\n",
        "        #print(len(patched_images))\n",
        "        for i in range(patched_images.shape[0]):\n",
        "          for j in range(patched_images.shape[1]):\n",
        "            if image_type == 'images':\n",
        "              individual_patched_image = patched_images[i,j,:,:]\n",
        "              #print(individual_patched_image.shape)\n",
        "              individual_patched_image = minmaxscaler.fit_transform(individual_patched_image.reshape(-1, individual_patched_image.shape[-1])).reshape(individual_patched_image.shape)\n",
        "              individual_patched_image = individual_patched_image[0]\n",
        "              #print(individual_patched_image.shape)\n",
        "              image_dataset.append(individual_patched_image)\n",
        "            elif image_type == 'masks':\n",
        "              individual_patched_mask = patched_images[i,j,:,:]\n",
        "              individual_patched_mask = individual_patched_mask[0]\n",
        "              mask_dataset.append(individual_patched_mask)"
      ]
    },
    {
      "cell_type": "code",
      "execution_count": null,
      "id": "HK2jH7doz2lh",
      "metadata": {
        "colab": {
          "base_uri": "https://localhost:8080/"
        },
        "id": "HK2jH7doz2lh",
        "outputId": "69faedf5-5bd8-43cc-ffb0-1a2f027477ba"
      },
      "outputs": [],
      "source": [
        "\n",
        "print(len(image_dataset))\n",
        "print(len(mask_dataset))"
      ]
    },
    {
      "cell_type": "code",
      "execution_count": null,
      "id": "dqb4Ukah-mJv",
      "metadata": {
        "colab": {
          "base_uri": "https://localhost:8080/"
        },
        "id": "dqb4Ukah-mJv",
        "outputId": "4263d0ce-bc60-4775-ad59-daf50ef5affd"
      },
      "outputs": [],
      "source": [
        "type(image_dataset[0])"
      ]
    },
    {
      "cell_type": "code",
      "execution_count": null,
      "id": "EcaNTXAe-6jk",
      "metadata": {
        "colab": {
          "base_uri": "https://localhost:8080/"
        },
        "id": "EcaNTXAe-6jk",
        "outputId": "22c63ead-a535-499e-953b-b6f3b6d24bf7"
      },
      "outputs": [],
      "source": [
        "type(np.reshape(image_dataset[0], (image_patch_size, image_patch_size, 3)))"
      ]
    },
    {
      "cell_type": "code",
      "execution_count": null,
      "id": "6OdnzWW5-6W1",
      "metadata": {
        "colab": {
          "base_uri": "https://localhost:8080/",
          "height": 576
        },
        "id": "6OdnzWW5-6W1",
        "outputId": "2fe742e3-0911-406b-c147-69f89b7b008d"
      },
      "outputs": [],
      "source": [
        "random_image_id = random.randint(0, len(image_dataset))\n",
        "plt.figure(figsize=(14,8))\n",
        "plt.subplot(121)\n",
        "plt.imshow(image_dataset[random_image_id])\n",
        "plt.subplot(122)\n",
        "plt.imshow(mask_dataset[random_image_id])"
      ]
    },
    {
      "cell_type": "code",
      "execution_count": null,
      "id": "vd4-LZow-6KT",
      "metadata": {
        "colab": {
          "base_uri": "https://localhost:8080/"
        },
        "id": "vd4-LZow-6KT",
        "outputId": "59e1eb8a-c3f6-49f8-83a3-128ca93b6ee8"
      },
      "outputs": [],
      "source": [
        "class_building = '#3C1098'\n",
        "class_building = class_building.lstrip('#')\n",
        "class_building = np.array(tuple(int(class_building[i:i+2], 16) for i in (0,2,4)))\n",
        "print(class_building)\n",
        "\n",
        "class_land = '#8429F6'\n",
        "class_land = class_land.lstrip('#')\n",
        "class_land = np.array(tuple(int(class_land[i:i+2], 16) for i in (0,2,4)))\n",
        "print(class_land)\n",
        "\n",
        "class_road = '#6EC1E4'\n",
        "class_road = class_road.lstrip('#')\n",
        "class_road = np.array(tuple(int(class_road[i:i+2], 16) for i in (0,2,4)))\n",
        "print(class_road)\n",
        "\n",
        "class_vegetation = '#FEDD3A'\n",
        "class_vegetation = class_vegetation.lstrip('#')\n",
        "class_vegetation = np.array(tuple(int(class_vegetation[i:i+2], 16) for i in (0,2,4)))\n",
        "print(class_vegetation)\n",
        "\n",
        "class_water = '#E2A929'\n",
        "class_water = class_water.lstrip('#')\n",
        "class_water = np.array(tuple(int(class_water[i:i+2], 16) for i in (0,2,4)))\n",
        "print(class_water)\n",
        "\n",
        "class_unlabeled = '#9B9B9B'\n",
        "class_unlabeled = class_unlabeled.lstrip('#')\n",
        "class_unlabeled = np.array(tuple(int(class_unlabeled[i:i+2], 16) for i in (0,2,4)))\n",
        "print(class_unlabeled)"
      ]
    },
    {
      "cell_type": "code",
      "execution_count": 26,
      "id": "ik_mDbIGHO__",
      "metadata": {
        "id": "ik_mDbIGHO__"
      },
      "outputs": [],
      "source": [
        "# converting list to numpy array for further processing ****\n",
        "image_dataset = np.array(image_dataset)\n",
        "mask_dataset = np.array(mask_dataset)"
      ]
    },
    {
      "cell_type": "code",
      "execution_count": null,
      "id": "_xfSai85AVih",
      "metadata": {
        "colab": {
          "base_uri": "https://localhost:8080/"
        },
        "id": "_xfSai85AVih",
        "outputId": "94af0d58-7ed5-4c9f-baa3-21ba5063a9b1"
      },
      "outputs": [],
      "source": [
        "mask_dataset.shape[0]"
      ]
    },
    {
      "cell_type": "code",
      "execution_count": 28,
      "id": "69QhaMGYAVf6",
      "metadata": {
        "id": "69QhaMGYAVf6"
      },
      "outputs": [],
      "source": [
        "label = individual_patched_mask"
      ]
    },
    {
      "cell_type": "code",
      "execution_count": 29,
      "id": "-ndRv6AxAVTZ",
      "metadata": {
        "id": "-ndRv6AxAVTZ"
      },
      "outputs": [],
      "source": [
        "def rgb_to_label(label):\n",
        "  label_segment = np.zeros(label.shape, dtype=np.uint8)\n",
        "  label_segment[np.all(label == class_water, axis=-1)] = 0\n",
        "  label_segment[np.all(label == class_land, axis=-1)] = 1\n",
        "  label_segment[np.all(label == class_road, axis=-1)] = 2\n",
        "  label_segment[np.all(label == class_building, axis=-1)] = 3\n",
        "  label_segment[np.all(label == class_vegetation, axis=-1)] = 4\n",
        "  label_segment[np.all(label == class_unlabeled, axis=-1)] = 5\n",
        "  #print(label_segment)\n",
        "  label_segment = label_segment[:,:,0]\n",
        "  #print(label_segment)\n",
        "  return label_segment"
      ]
    },
    {
      "cell_type": "code",
      "execution_count": 30,
      "id": "E6fpTzE2Cgy6",
      "metadata": {
        "id": "E6fpTzE2Cgy6"
      },
      "outputs": [],
      "source": [
        "labels = []\n",
        "for i in range(mask_dataset.shape[0]):\n",
        "  label = rgb_to_label(mask_dataset[i])\n",
        "  labels.append(label)"
      ]
    },
    {
      "cell_type": "code",
      "execution_count": null,
      "id": "X4ZXhVUsCh9T",
      "metadata": {
        "colab": {
          "base_uri": "https://localhost:8080/"
        },
        "id": "X4ZXhVUsCh9T",
        "outputId": "2881655b-0356-4bf7-a59c-ab861009d67f"
      },
      "outputs": [],
      "source": [
        "print(len(labels))"
      ]
    },
    {
      "cell_type": "code",
      "execution_count": 32,
      "id": "BaAwHqlzCh5h",
      "metadata": {
        "id": "BaAwHqlzCh5h"
      },
      "outputs": [],
      "source": [
        "labels = np.array(labels)"
      ]
    },
    {
      "cell_type": "code",
      "execution_count": null,
      "id": "ERv38rBpIOe6",
      "metadata": {
        "colab": {
          "base_uri": "https://localhost:8080/",
          "height": 296
        },
        "id": "ERv38rBpIOe6",
        "outputId": "636b2368-0ec4-4144-b48d-f2e62595e7b6"
      },
      "outputs": [],
      "source": [
        "labels[3]"
      ]
    },
    {
      "cell_type": "code",
      "execution_count": 34,
      "id": "Eb_NtSpTIOYx",
      "metadata": {
        "id": "Eb_NtSpTIOYx"
      },
      "outputs": [],
      "source": [
        "labels = np.expand_dims(labels, axis=3)"
      ]
    },
    {
      "cell_type": "code",
      "execution_count": null,
      "id": "VpBqvizYIOSR",
      "metadata": {
        "colab": {
          "base_uri": "https://localhost:8080/"
        },
        "id": "VpBqvizYIOSR",
        "outputId": "b83b8b65-4dff-4528-8e72-09bd228b2201"
      },
      "outputs": [],
      "source": [
        "labels[0]"
      ]
    },
    {
      "cell_type": "code",
      "execution_count": null,
      "id": "rlr-iEknJaRc",
      "metadata": {
        "colab": {
          "base_uri": "https://localhost:8080/"
        },
        "id": "rlr-iEknJaRc",
        "outputId": "73763a7c-5179-4a6e-8b60-a01d9049e65d"
      },
      "outputs": [],
      "source": [
        "np.unique(labels)"
      ]
    },
    {
      "cell_type": "code",
      "execution_count": null,
      "id": "xTmZRM1MJaOX",
      "metadata": {
        "colab": {
          "base_uri": "https://localhost:8080/"
        },
        "id": "xTmZRM1MJaOX",
        "outputId": "7862520d-bb86-4881-fe01-ac9331bd3304"
      },
      "outputs": [],
      "source": [
        "print(\"Total No. unique labels of maskses: \",format(np.unique(labels)))"
      ]
    },
    {
      "cell_type": "code",
      "execution_count": null,
      "id": "aZBfl42XJaLD",
      "metadata": {
        "colab": {
          "base_uri": "https://localhost:8080/",
          "height": 576
        },
        "id": "aZBfl42XJaLD",
        "outputId": "a6f993f4-cc7c-445a-f7d4-6c78f36639c7"
      },
      "outputs": [],
      "source": [
        "random_image_id = random.randint(0, len(image_dataset))\n",
        "\n",
        "plt.figure(figsize=(14,8))\n",
        "plt.subplot(121)\n",
        "plt.imshow(image_dataset[random_image_id])\n",
        "plt.subplot(122)\n",
        "#plt.imshow(mask_dataset[random_image_id])\n",
        "plt.imshow(labels[random_image_id][:,:,0])"
      ]
    },
    {
      "cell_type": "code",
      "execution_count": null,
      "id": "l-v06uHSJZ3k",
      "metadata": {
        "colab": {
          "base_uri": "https://localhost:8080/",
          "height": 296
        },
        "id": "l-v06uHSJZ3k",
        "outputId": "f3c14873-8c0c-437e-c676-6cf33774a93e"
      },
      "outputs": [],
      "source": [
        "labels[0][:,:,0]"
      ]
    },
    {
      "cell_type": "code",
      "execution_count": null,
      "id": "4DoDrk6sKdL_",
      "metadata": {
        "colab": {
          "base_uri": "https://localhost:8080/"
        },
        "id": "4DoDrk6sKdL_",
        "outputId": "474370bf-6ce0-49e6-d504-aa8e4e9f645d"
      },
      "outputs": [],
      "source": [
        "total_classes = len(np.unique(labels))\n",
        "total_classes"
      ]
    },
    {
      "cell_type": "code",
      "execution_count": 41,
      "id": "uiPNLz1zKdI3",
      "metadata": {
        "id": "uiPNLz1zKdI3"
      },
      "outputs": [],
      "source": [
        "from tensorflow.keras.utils import to_categorical"
      ]
    },
    {
      "cell_type": "code",
      "execution_count": 42,
      "id": "ZcPk7t9HKc9L",
      "metadata": {
        "id": "ZcPk7t9HKc9L"
      },
      "outputs": [],
      "source": [
        "labels_categorical_dataset = to_categorical(labels, num_classes=total_classes)"
      ]
    },
    {
      "cell_type": "code",
      "execution_count": null,
      "id": "vimxzWMyK22l",
      "metadata": {
        "colab": {
          "base_uri": "https://localhost:8080/"
        },
        "id": "vimxzWMyK22l",
        "outputId": "4d1bc7ae-76ae-42b8-91ba-aacf057a216d"
      },
      "outputs": [],
      "source": [
        "labels_categorical_dataset.shape"
      ]
    },
    {
      "cell_type": "code",
      "execution_count": 44,
      "id": "bdsRv5mxK7GS",
      "metadata": {
        "id": "bdsRv5mxK7GS"
      },
      "outputs": [],
      "source": [
        "master_trianing_dataset = image_dataset"
      ]
    },
    {
      "cell_type": "code",
      "execution_count": null,
      "id": "3hOwTxaeLJ6X",
      "metadata": {
        "colab": {
          "base_uri": "https://localhost:8080/"
        },
        "id": "3hOwTxaeLJ6X",
        "outputId": "514c56c9-6a72-464f-bfad-8538dc7aeef7"
      },
      "outputs": [],
      "source": [
        "master_trianing_dataset.shape"
      ]
    },
    {
      "cell_type": "code",
      "execution_count": 46,
      "id": "fA4dLSaNLRa-",
      "metadata": {
        "id": "fA4dLSaNLRa-"
      },
      "outputs": [],
      "source": [
        "from sklearn.model_selection import train_test_split"
      ]
    },
    {
      "cell_type": "code",
      "execution_count": 47,
      "id": "KHbRNSpaLVWB",
      "metadata": {
        "id": "KHbRNSpaLVWB"
      },
      "outputs": [],
      "source": [
        "X_train, X_test, y_train, y_test = train_test_split(master_trianing_dataset, labels_categorical_dataset, test_size=0.20, random_state=100)"
      ]
    },
    {
      "cell_type": "code",
      "execution_count": null,
      "id": "BZOliP7ALpHC",
      "metadata": {
        "colab": {
          "base_uri": "https://localhost:8080/"
        },
        "id": "BZOliP7ALpHC",
        "outputId": "dd74ad73-e859-425f-efbd-8beb8d51545e"
      },
      "outputs": [],
      "source": [
        "print(X_train.shape)\n",
        "print(X_test.shape)\n",
        "print(y_train.shape)\n",
        "print(y_test.shape)"
      ]
    },
    {
      "cell_type": "code",
      "execution_count": 49,
      "id": "0H5-cZwZLo38",
      "metadata": {
        "id": "0H5-cZwZLo38"
      },
      "outputs": [],
      "source": [
        "image_height = X_train.shape[1]\n",
        "image_width = X_train.shape[2]\n",
        "image_channels = X_train.shape[3]\n",
        "total_classes = y_train.shape[3]"
      ]
    },
    {
      "cell_type": "code",
      "execution_count": null,
      "id": "xwGgCq9VMM0P",
      "metadata": {
        "colab": {
          "base_uri": "https://localhost:8080/"
        },
        "id": "xwGgCq9VMM0P",
        "outputId": "99cb0620-b2fd-47d1-bb02-d22bc08d8b7c"
      },
      "outputs": [],
      "source": [
        "print(image_height)\n",
        "print(image_width)\n",
        "print(image_channels)\n",
        "print(total_classes)"
      ]
    },
    {
      "cell_type": "markdown",
      "id": "fXwbFcCLgD1x",
      "metadata": {
        "id": "fXwbFcCLgD1x"
      },
      "source": [
        "# **Training and prediction of model on Satellite Imagery Data using deep learning**"
      ]
    },
    {
      "cell_type": "code",
      "execution_count": null,
      "id": "5QS7CADR2HZX",
      "metadata": {
        "colab": {
          "base_uri": "https://localhost:8080/"
        },
        "id": "5QS7CADR2HZX",
        "outputId": "16c29e20-3d75-490f-c46e-e2c67f0b9fbb"
      },
      "outputs": [],
      "source": [
        "!pip install -U segmentation-models"
      ]
    },
    {
      "cell_type": "code",
      "execution_count": null,
      "id": "l7YkjyOegAtT",
      "metadata": {
        "colab": {
          "base_uri": "https://localhost:8080/"
        },
        "id": "l7YkjyOegAtT",
        "outputId": "3d73e896-2855-4075-8298-3ca1c09dd0b7"
      },
      "outputs": [],
      "source": [
        "!pip install keras"
      ]
    },
    {
      "cell_type": "code",
      "execution_count": 53,
      "id": "O-CBYPcghPi1",
      "metadata": {
        "id": "O-CBYPcghPi1"
      },
      "outputs": [],
      "source": [
        "from keras.models import Model\n",
        "from keras.layers import Input, Conv2D, MaxPooling2D, UpSampling2D, Conv2DTranspose\n",
        "from keras.layers import concatenate, BatchNormalization, Dropout, Lambda\n",
        "from keras import backend as K"
      ]
    },
    {
      "cell_type": "code",
      "execution_count": 54,
      "id": "lRhL0_QzhPfd",
      "metadata": {
        "id": "lRhL0_QzhPfd"
      },
      "outputs": [],
      "source": [
        "def jaccard_coef(y_true, y_pred):\n",
        "  y_true_flatten = K.flatten(y_true)\n",
        "  y_pred_flatten = K.flatten(y_pred)\n",
        "  intersection = K.sum(y_true_flatten * y_pred_flatten)\n",
        "  final_coef_value = (intersection + 1.0) / (K.sum(y_true_flatten) + K.sum(y_pred_flatten) - intersection + 1.0)\n",
        "  return final_coef_value"
      ]
    },
    {
      "cell_type": "code",
      "execution_count": 55,
      "id": "F-mRuTxChPQz",
      "metadata": {
        "id": "F-mRuTxChPQz"
      },
      "outputs": [],
      "source": [
        "def multi_unet_model(n_classes=5, image_height=256, image_width=256, image_channels=1):\n",
        "\n",
        "  inputs = Input((image_height, image_width, image_channels))\n",
        "\n",
        "  source_input = inputs\n",
        "\n",
        "  c1 = Conv2D(16, (3,3), activation=\"relu\", kernel_initializer=\"he_normal\", padding=\"same\")(source_input)\n",
        "  c1 = Dropout(0.2)(c1)\n",
        "  c1 = Conv2D(16, (3,3), activation=\"relu\", kernel_initializer=\"he_normal\", padding=\"same\")(c1)\n",
        "  p1 = MaxPooling2D((2,2))(c1)\n",
        "\n",
        "  c2 = Conv2D(32, (3,3), activation=\"relu\", kernel_initializer=\"he_normal\", padding=\"same\")(p1)\n",
        "  c2 = Dropout(0.2)(c2)\n",
        "  c2 = Conv2D(32, (3,3), activation=\"relu\", kernel_initializer=\"he_normal\", padding=\"same\")(c2)\n",
        "  p2 = MaxPooling2D((2,2))(c2)\n",
        "\n",
        "  c3 = Conv2D(64, (3,3), activation=\"relu\", kernel_initializer=\"he_normal\", padding=\"same\")(p2)\n",
        "  c3 = Dropout(0.2)(c3)\n",
        "  c3 = Conv2D(64, (3,3), activation=\"relu\", kernel_initializer=\"he_normal\", padding=\"same\")(c3)\n",
        "  p3 = MaxPooling2D((2,2))(c3)\n",
        "\n",
        "  c4 = Conv2D(128, (3,3), activation=\"relu\", kernel_initializer=\"he_normal\", padding=\"same\")(p3)\n",
        "  c4 = Dropout(0.2)(c4)\n",
        "  c4 = Conv2D(128, (3,3), activation=\"relu\", kernel_initializer=\"he_normal\", padding=\"same\")(c4)\n",
        "  p4 = MaxPooling2D((2,2))(c4)\n",
        "\n",
        "  c5 = Conv2D(256, (3,3), activation=\"relu\", kernel_initializer=\"he_normal\", padding=\"same\")(p4)\n",
        "  c5 = Dropout(0.2)(c5)\n",
        "  c5 = Conv2D(256, (3,3), activation=\"relu\", kernel_initializer=\"he_normal\", padding=\"same\")(c5)\n",
        "\n",
        "  u6 = Conv2DTranspose(128, (2,2), strides=(2,2), padding=\"same\")(c5)\n",
        "  u6 = concatenate([u6, c4])\n",
        "  c6 = Conv2D(128, (3,3), activation=\"relu\", kernel_initializer=\"he_normal\", padding=\"same\")(u6)\n",
        "  c6 = Dropout(0.2)(c6)\n",
        "  c6 = Conv2D(128, (3,3), activation=\"relu\", kernel_initializer=\"he_normal\", padding=\"same\")(c6)\n",
        "\n",
        "  u7 = Conv2DTranspose(64, (2,2), strides=(2,2), padding=\"same\")(c6)\n",
        "  u7 = concatenate([u7, c3])\n",
        "  c7 = Conv2D(64, (3,3), activation=\"relu\", kernel_initializer=\"he_normal\", padding=\"same\")(u7)\n",
        "  c7 = Dropout(0.2)(c7)\n",
        "  c7 = Conv2D(64, (3,3), activation=\"relu\", kernel_initializer=\"he_normal\", padding=\"same\")(c7)\n",
        "\n",
        "  u8 = Conv2DTranspose(32, (2,2), strides=(2,2), padding=\"same\")(c7)\n",
        "  u8 = concatenate([u8, c2])\n",
        "  c8 = Conv2D(32, (3,3), activation=\"relu\", kernel_initializer=\"he_normal\", padding=\"same\")(u8)\n",
        "  c8 = Dropout(0.2)(c8)\n",
        "  c8 = Conv2D(32, (3,3), activation=\"relu\", kernel_initializer=\"he_normal\", padding=\"same\")(c8)\n",
        "\n",
        "  u9 = Conv2DTranspose(16, (2,2), strides=(2,2), padding=\"same\")(c8)\n",
        "  u9 = concatenate([u9, c1], axis=3)\n",
        "  c9 = Conv2D(16, (3,3), activation=\"relu\", kernel_initializer=\"he_normal\", padding=\"same\")(u9)\n",
        "  c9 = Dropout(0.2)(c9)\n",
        "  c9 = Conv2D(16, (3,3), activation=\"relu\", kernel_initializer=\"he_normal\", padding=\"same\")(c9)\n",
        "\n",
        "  outputs = Conv2D(n_classes, (1,1), activation=\"softmax\")(c9)\n",
        "\n",
        "  model = Model(inputs=[inputs], outputs=[outputs])\n",
        "  return model"
      ]
    },
    {
      "cell_type": "code",
      "execution_count": 56,
      "id": "amTrJZh7huG2",
      "metadata": {
        "id": "amTrJZh7huG2"
      },
      "outputs": [],
      "source": [
        "metrics = [\"accuracy\", jaccard_coef]"
      ]
    },
    {
      "cell_type": "code",
      "execution_count": null,
      "id": "OyWPMAWUh2Bt",
      "metadata": {
        "colab": {
          "base_uri": "https://localhost:8080/"
        },
        "id": "OyWPMAWUh2Bt",
        "outputId": "5e55bca3-ef35-4aac-a705-e277b1f7e697"
      },
      "outputs": [],
      "source": [
        "print(image_height)\n",
        "print(image_width)\n",
        "print(image_channels)\n",
        "print(total_classes)"
      ]
    },
    {
      "cell_type": "code",
      "execution_count": 58,
      "id": "NuuN2CzIh1-M",
      "metadata": {
        "id": "NuuN2CzIh1-M"
      },
      "outputs": [],
      "source": [
        "def get_deep_learning_model():\n",
        "  return multi_unet_model(n_classes=total_classes,\n",
        "                          image_height=image_height,\n",
        "                          image_width=image_width,\n",
        "                          image_channels=image_channels)"
      ]
    },
    {
      "cell_type": "code",
      "execution_count": 59,
      "id": "EXSJFm2yh157",
      "metadata": {
        "id": "EXSJFm2yh157"
      },
      "outputs": [],
      "source": [
        "model = get_deep_learning_model()"
      ]
    },
    {
      "cell_type": "code",
      "execution_count": null,
      "id": "Rjjij1noiCIw",
      "metadata": {
        "colab": {
          "base_uri": "https://localhost:8080/"
        },
        "id": "Rjjij1noiCIw",
        "outputId": "3ea71f89-e1fc-4fc3-98bd-0ee76b0718a0"
      },
      "outputs": [],
      "source": [
        "model.get_config()"
      ]
    },
    {
      "cell_type": "markdown",
      "id": "XedCaWvviy1H",
      "metadata": {
        "id": "XedCaWvviy1H"
      },
      "source": [
        "Defining  Loss Function"
      ]
    },
    {
      "cell_type": "code",
      "execution_count": 61,
      "id": "t924mtf2iCFp",
      "metadata": {
        "id": "t924mtf2iCFp"
      },
      "outputs": [],
      "source": [
        "weights = [0.1655, 0.1655, 0.1655, 0.1655, 0.1655, 0.1655]"
      ]
    },
    {
      "cell_type": "code",
      "execution_count": null,
      "id": "amDSIr0RiBzd",
      "metadata": {
        "colab": {
          "base_uri": "https://localhost:8080/"
        },
        "id": "amDSIr0RiBzd",
        "outputId": "7cad8680-1950-450a-bbfc-ac108d229ff8"
      },
      "outputs": [],
      "source": [
        "import tensorflow as tf\n",
        "import os\n",
        "os.environ[\"SM_FRAMEWORK\"] = \"tf.keras\"\n",
        "from tensorflow import keras\n",
        "import segmentation_models as sm"
      ]
    },
    {
      "cell_type": "code",
      "execution_count": 63,
      "id": "z_bXiRpliBv7",
      "metadata": {
        "id": "z_bXiRpliBv7"
      },
      "outputs": [],
      "source": [
        "dice_loss = sm.losses.DiceLoss(class_weights = weights)"
      ]
    },
    {
      "cell_type": "code",
      "execution_count": 64,
      "id": "RM0oNMg-pvyN",
      "metadata": {
        "id": "RM0oNMg-pvyN"
      },
      "outputs": [],
      "source": [
        "focal_loss = sm.losses.CategoricalFocalLoss()"
      ]
    },
    {
      "cell_type": "code",
      "execution_count": 65,
      "id": "EJPpcYvgpvjk",
      "metadata": {
        "id": "EJPpcYvgpvjk"
      },
      "outputs": [],
      "source": [
        "total_loss = dice_loss + (1 * focal_loss)"
      ]
    },
    {
      "cell_type": "markdown",
      "id": "0e7ef_jTp3YG",
      "metadata": {
        "id": "0e7ef_jTp3YG"
      },
      "source": [
        "Model Compilation"
      ]
    },
    {
      "cell_type": "code",
      "execution_count": 66,
      "id": "AxPz2SBopvfg",
      "metadata": {
        "id": "AxPz2SBopvfg"
      },
      "outputs": [],
      "source": [
        "tf.keras.backend.clear_session()"
      ]
    },
    {
      "cell_type": "code",
      "execution_count": 67,
      "id": "13sb3xXSqDoK",
      "metadata": {
        "id": "13sb3xXSqDoK"
      },
      "outputs": [],
      "source": [
        "model.compile(optimizer=\"adam\", loss=total_loss, metrics=metrics)"
      ]
    },
    {
      "cell_type": "code",
      "execution_count": null,
      "id": "A9o5rC3SqDdg",
      "metadata": {
        "colab": {
          "base_uri": "https://localhost:8080/"
        },
        "id": "A9o5rC3SqDdg",
        "outputId": "856c1df5-14ef-45b6-8da1-517bb5ae2763"
      },
      "outputs": [],
      "source": [
        "model.summary()"
      ]
    },
    {
      "cell_type": "code",
      "execution_count": null,
      "id": "20jM_uamqDZu",
      "metadata": {
        "colab": {
          "base_uri": "https://localhost:8080/"
        },
        "id": "20jM_uamqDZu",
        "outputId": "921ca4ba-4bba-49d8-b705-da07ebeba9d1"
      },
      "outputs": [],
      "source": [
        "# training of model\n",
        "model_history = model.fit(X_train, y_train,\n",
        "                          batch_size=5,\n",
        "                          epochs=50,\n",
        "                          verbose=1,\n",
        "                          validation_data=(X_test, y_test),\n",
        "                          shuffle=False)"
      ]
    },
    {
      "cell_type": "code",
      "execution_count": 70,
      "id": "HowXdHsttTXI",
      "metadata": {
        "id": "HowXdHsttTXI"
      },
      "outputs": [],
      "source": [
        "history_a = model_history"
      ]
    },
    {
      "cell_type": "code",
      "execution_count": null,
      "id": "JaUvT_O4tep4",
      "metadata": {
        "colab": {
          "base_uri": "https://localhost:8080/"
        },
        "id": "JaUvT_O4tep4",
        "outputId": "5ca4deaa-d4e7-4988-df11-f80126319004"
      },
      "outputs": [],
      "source": [
        "history_a.history"
      ]
    },
    {
      "cell_type": "code",
      "execution_count": 72,
      "id": "LsCy5RsqteU2",
      "metadata": {
        "colab": {
          "base_uri": "https://localhost:8080/",
          "height": 472
        },
        "id": "LsCy5RsqteU2",
        "outputId": "db1b08f3-8d76-42d1-83ba-893751d2cea1"
      },
      "outputs": [
        {
          "data": {
            "image/png": "[encoded data removed]",
            "text/plain": [
              "<Figure size 640x480 with 1 Axes>"
            ]
          },
          "metadata": {},
          "output_type": "display_data"
        }
      ],
      "source": [
        "loss = history_a.history['loss']\n",
        "val_loss = history_a.history['val_loss']\n",
        "epochs = range(1, len(loss) + 1)\n",
        "plt.plot(epochs, loss, 'y', label=\"Training Loss\")\n",
        "plt.plot(epochs, val_loss, 'r', label=\"Validation Loss\")\n",
        "plt.title(\"Training Vs Validation Loss\")\n",
        "plt.xlabel(\"Epochs\")\n",
        "plt.ylabel(\"Loss\")\n",
        "plt.legend()\n",
        "plt.show()"
      ]
    },
    {
      "cell_type": "code",
      "execution_count": 73,
      "id": "WTErwecAtds2",
      "metadata": {
        "colab": {
          "base_uri": "https://localhost:8080/",
          "height": 472
        },
        "id": "WTErwecAtds2",
        "outputId": "314c36aa-8c8d-4342-b046-bd3c52662e91"
      },
      "outputs": [
        {
          "data": {
            "image/png": "[encoded data removed]",
            "text/plain": [
              "<Figure size 640x480 with 1 Axes>"
            ]
          },
          "metadata": {},
          "output_type": "display_data"
        }
      ],
      "source": [
        "jaccard_coef = history_a.history['jaccard_coef']\n",
        "val_jaccard_coef = history_a.history['val_jaccard_coef']\n",
        "\n",
        "epochs = range(1, len(jaccard_coef) + 1)\n",
        "plt.plot(epochs, jaccard_coef, 'y', label=\"Training IoU\")\n",
        "plt.plot(epochs, val_jaccard_coef, 'r', label=\"Validation IoU\")\n",
        "plt.title(\"Training Vs Validation IoU\")\n",
        "plt.xlabel(\"Epochs\")\n",
        "plt.ylabel(\"Loss\")\n",
        "plt.legend()\n",
        "plt.show()"
      ]
    },
    {
      "cell_type": "code",
      "execution_count": null,
      "id": "b9XYdvVgt6rK",
      "metadata": {
        "colab": {
          "base_uri": "https://localhost:8080/"
        },
        "id": "b9XYdvVgt6rK",
        "outputId": "16b83e15-efea-4b90-a069-83ed01126946"
      },
      "outputs": [],
      "source": [
        "model_history.params"
      ]
    },
    {
      "cell_type": "markdown",
      "id": "kLJTwxJxuXjc",
      "metadata": {
        "id": "kLJTwxJxuXjc"
      },
      "source": [
        "* predict the model on test data"
      ]
    },
    {
      "cell_type": "code",
      "execution_count": null,
      "id": "P7qC4sYUt6c8",
      "metadata": {
        "colab": {
          "base_uri": "https://localhost:8080/"
        },
        "id": "P7qC4sYUt6c8",
        "outputId": "52ba12aa-446b-4da2-a778-891cbdeadbb4"
      },
      "outputs": [],
      "source": [
        "y_pred = model.predict(X_test)"
      ]
    },
    {
      "cell_type": "code",
      "execution_count": null,
      "id": "5yep-AgHt6Oi",
      "metadata": {
        "colab": {
          "base_uri": "https://localhost:8080/"
        },
        "id": "5yep-AgHt6Oi",
        "outputId": "3ef0cc3d-7c1c-4ec3-ca65-0ef7d446cef0"
      },
      "outputs": [],
      "source": [
        "len(y_pred)"
      ]
    },
    {
      "cell_type": "code",
      "execution_count": null,
      "id": "M2Ad3WTmuoNt",
      "metadata": {
        "colab": {
          "base_uri": "https://localhost:8080/"
        },
        "id": "M2Ad3WTmuoNt",
        "outputId": "02e64722-f7c6-4d40-fd78-4558d1442eb4"
      },
      "outputs": [],
      "source": [
        "y_pred"
      ]
    },
    {
      "cell_type": "code",
      "execution_count": 78,
      "id": "yqtYpnQ2un-d",
      "metadata": {
        "id": "yqtYpnQ2un-d"
      },
      "outputs": [],
      "source": [
        "y_pred_argmax = np.argmax(y_pred, axis=3)"
      ]
    },
    {
      "cell_type": "code",
      "execution_count": null,
      "id": "GIEjXNDYunw7",
      "metadata": {
        "colab": {
          "base_uri": "https://localhost:8080/"
        },
        "id": "GIEjXNDYunw7",
        "outputId": "091004eb-efbf-4e29-9b73-8b9d1bef3412"
      },
      "outputs": [],
      "source": [
        "len(y_pred_argmax)"
      ]
    },
    {
      "cell_type": "code",
      "execution_count": null,
      "id": "pUts3E_pu7JC",
      "metadata": {
        "colab": {
          "base_uri": "https://localhost:8080/"
        },
        "id": "pUts3E_pu7JC",
        "outputId": "5d6e90d0-04af-4645-de7d-2877ad8504d9"
      },
      "outputs": [],
      "source": [
        "y_pred_argmax"
      ]
    },
    {
      "cell_type": "code",
      "execution_count": 81,
      "id": "lV6QvAYfu64c",
      "metadata": {
        "id": "lV6QvAYfu64c"
      },
      "outputs": [],
      "source": [
        "y_test_argmax = np.argmax(y_test, axis=3)"
      ]
    },
    {
      "cell_type": "code",
      "execution_count": null,
      "id": "bbT7rLaSvTVr",
      "metadata": {
        "colab": {
          "base_uri": "https://localhost:8080/"
        },
        "id": "bbT7rLaSvTVr",
        "outputId": "828bbb57-af25-4397-a64c-288a8cdc4dea"
      },
      "outputs": [],
      "source": [
        "y_test_argmax"
      ]
    },
    {
      "cell_type": "markdown",
      "id": "m1-7ACysvzQv",
      "metadata": {
        "id": "m1-7ACysvzQv"
      },
      "source": [
        "# Comparing prediction results\n",
        "  -> with image , labeled mask , predicted mask image"
      ]
    },
    {
      "cell_type": "code",
      "execution_count": 83,
      "id": "ai4ae2qSvTDr",
      "metadata": {
        "id": "ai4ae2qSvTDr"
      },
      "outputs": [],
      "source": [
        "import random"
      ]
    },
    {
      "cell_type": "code",
      "execution_count": null,
      "id": "vqCmBuvFwLQP",
      "metadata": {
        "colab": {
          "base_uri": "https://localhost:8080/"
        },
        "id": "vqCmBuvFwLQP",
        "outputId": "053cb4ed-4593-4c2a-8901-780d65c79fbc"
      },
      "outputs": [],
      "source": [
        "test_image_number = random.randint(0, len(X_test))\n",
        "\n",
        "test_image = X_test[test_image_number]\n",
        "ground_truth_image = y_test_argmax[test_image_number]\n",
        "\n",
        "test_image_input = np.expand_dims(test_image, 0)\n",
        "\n",
        "prediction = model.predict(test_image_input)\n",
        "predicted_image = np.argmax(prediction, axis=3)\n",
        "predicted_image = predicted_image[0,:,:]"
      ]
    },
    {
      "cell_type": "code",
      "execution_count": null,
      "id": "jSr3YEfLwLKw",
      "metadata": {
        "colab": {
          "base_uri": "https://localhost:8080/",
          "height": 381
        },
        "id": "jSr3YEfLwLKw",
        "outputId": "dd7d3c98-dbcd-4ebc-a896-9c6f03bdd307"
      },
      "outputs": [],
      "source": [
        "plt.figure(figsize=(14,8))\n",
        "plt.subplot(231)\n",
        "plt.title(\"Original Image\")\n",
        "plt.imshow(test_image)\n",
        "plt.subplot(232)\n",
        "plt.title(\"Original Masked image\")\n",
        "plt.imshow(ground_truth_image)\n",
        "plt.subplot(233)\n",
        "plt.title(\"Predicted Image\")\n",
        "plt.imshow(predicted_image)"
      ]
    },
    {
      "cell_type": "code",
      "execution_count": null,
      "id": "FNMPJaH3wK-z",
      "metadata": {
        "colab": {
          "base_uri": "https://localhost:8080/"
        },
        "id": "FNMPJaH3wK-z",
        "outputId": "26edb703-afc7-4339-d068-11114d5779e4"
      },
      "outputs": [],
      "source": [
        "model.save(\"Road_Detection_by_SateliteArialView.h5\")"
      ]
    },
    {
      "cell_type": "code",
      "execution_count": null,
      "id": "vnlGL0naxUnq",
      "metadata": {
        "colab": {
          "base_uri": "https://localhost:8080/"
        },
        "id": "vnlGL0naxUnq",
        "outputId": "041e301f-1329-4b0d-b511-9c390145c2ef"
      },
      "outputs": [],
      "source": [
        "!ls -lah"
      ]
    }
  ],
  "metadata": {
    "colab": {
      "provenance": []
    },
    "kernelspec": {
      "display_name": "Python 3 (ipykernel)",
      "language": "python",
      "name": "python3"
    },
    "language_info": {
      "codemirror_mode": {
        "name": "ipython",
        "version": 3
      },
      "file_extension": ".py",
      "mimetype": "text/x-python",
      "name": "python",
      "nbconvert_exporter": "python",
      "pygments_lexer": "ipython3",
      "version": "3.9.13"
    }
  },
  "nbformat": 4,
  "nbformat_minor": 5
}
